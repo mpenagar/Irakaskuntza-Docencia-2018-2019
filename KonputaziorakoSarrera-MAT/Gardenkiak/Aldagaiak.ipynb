{
 "cells": [
  {
   "cell_type": "markdown",
   "metadata": {},
   "source": [
    "# Aldagaiak\n",
    "\n",
    "Pythonen, beste rogramazio lengoaietan bezala, balio berriak sortuko dituzten espresioak existitzen dira:"
   ]
  },
  {
   "cell_type": "code",
   "execution_count": 1,
   "metadata": {},
   "outputs": [
    {
     "data": {
      "text/plain": [
       "52.142857142857146"
      ]
     },
     "execution_count": 1,
     "metadata": {},
     "output_type": "execute_result"
    }
   ],
   "source": [
    "365/7"
   ]
  },
  {
   "cell_type": "markdown",
   "metadata": {},
   "source": [
    "Defektuz, balio hauek *galdu* egiten dira. Balio hauek aldabaietan *\"gorde\"* ditzakegu, aurrerago erabili ahal izateko:"
   ]
  },
  {
   "cell_type": "code",
   "execution_count": 2,
   "metadata": {},
   "outputs": [
    {
     "name": "stdout",
     "output_type": "stream",
     "text": [
      "Urteak 52.142857142857146 ditu\n"
     ]
    }
   ],
   "source": [
    "aste = 365/7\n",
    "print(\"Urteak\",aste,\"ditu\")"
   ]
  },
  {
   "cell_type": "markdown",
   "metadata": {},
   "source": [
    "Balioak gordetzeko, aldagaiak eta esleipen sententziak erabiltzen dira. Esleipen sententzi batek ondoko pausuak ematen ditu:\n",
    "\n",
    "  1. Eskuinaldeko espresioaren balioa kalkulatu.\n",
    "  1. Ezkerreko aldagaiari esleitu balio hori.\n",
    "\n",
    "Tira, hau ez da guztiz zuzena...\n",
    "![scream](../img/emoji/36x36/1f631.png)"
   ]
  },
  {
   "attachments": {},
   "cell_type": "markdown",
   "metadata": {},
   "source": [
    "## Aldagaiak erreferentziak dira\n",
    "\n",
    "Aldagaiak **erreferentzia edo etiketa soilak** dira. Aldagaietan gordetzen den informazioa ez da esleitzen dugun balioa, baizik eta **balio horretara iristeko behar den informazioa** (objektu horren helbidea).\n",
    "\n",
    "`aste = 365/7` sententzia exekutatzean, ondoko pausuak ematen dira:\n",
    "\n",
    "  - Eskuinaldeko espresioa ebaluatzen da.\n",
    "    - `365` eta `7` balioak izango dituzten bi objektuak (zenbaki osoak) sortzen dira.\n",
    "    - Zatiketa eragiteta ebaluatzean, `52.142857142857146` balioa izango duen objektua (zenbaki erreala) sortzen da.\n",
    "  - `aste` aldagaiari `52.142857142857146` objektuaren erreferentzia esleitzen zaio.\n",
    "  - Hemendik aurrera, `aste` identifikadorea erabiltzen dugun guztietan, `52.142857142857146` balioa duen objektuaz ari gara hitzegiten.\n",
    "    \n",
    "![VariablesAndReferences1](../img/VariablesAndReferences1.png)\n"
   ]
  },
  {
   "attachments": {},
   "cell_type": "markdown",
   "metadata": {},
   "source": [
    "**Aldaezinak** diren informazio edo balioekin ari garenean, berdin digu aldagaiak erreferentziak direla pentsatzea edo ta aldagaiek balioak gordetzen dituztela pentsatzea. Demagun `a` aldagai bati `1234` balioa esleitzen diogula,\n",
    "\n",
    "`a = 1234`\n",
    "\n",
    "eta ondoren `b` aldagai bati `a`-ren balioa esleitzen diogula,\n",
    "\n",
    "`b = a`\n",
    "\n",
    "Ondoko irudian sententziak exekutatu ondorengo bi egoera agertzen dira, bi ikuspuntuen arabera (ezkerrean aldagaiek balioak gordetzen dituzte eta eskuinean balioen erreferentziak).\n",
    "\n",
    "![VariablesAndReferences2](../img/VariablesAndReferences2.png)\n",
    "\n",
    "\n",
    "Aldagaietan balioak gordeko balira (ezkerraldea), bigarren sententziak `1234`-ren kopia bat gordeko luke `b`-ren barnean. Aldagaiak erreferentziak balira ordea (eskuinaldea), bigarren sententziak ez luke objektu berririk sortuko (ez dago inongo eragiketarik), eta beraz `a` eta `b` erreferentziek objektu berdin bat erreferentziatuko lukete (bi erreferentziek helbide berdina dute). Ezberdinak badira ere, bi egoerak baliokideak dira eta programazioaren ikuspuntutik berdin dio modu batera edo bestera pentsatzeak."
   ]
  },
  {
   "attachments": {},
   "cell_type": "markdown",
   "metadata": {},
   "source": [
    "**Aldakorrak** diren informazioetan, ordea, bi egoerak guztiz ezberdinak dira. Demagun zenbaki osoen informazioa ez dela soilik balio oso bat, demagun kolorea ere badutela, eta kolorez aldatu daitezkeela (`1234` zenbaki oso literala adieraztean, pythonek defektuzko kolore beltza erabili duela pentsa genezake). Demagun ondoko sententziak `a.kolorea_aldatu(\"orange\")` a objektuaren kolorea aldatzen duela. Ondokoa litzateke emaitza:\n",
    "\n",
    "![VariablesAndReferences3](../img/VariablesAndReferences3.png)\n",
    "\n",
    "\n",
    "Argi ikusten denez, aldagaiek balioak gordeko balituzte, `a`-ren kolorea aldatzeak ez luke `b`-ren kolorea aldatuko. Erreferentziak direnez, ordea, `a` eta `b` erreferentziek objektu berdin bat erreferentziatzen dute, eta beraz `a`-ren kolorea aldatzean `b`-ren kolorea aldatu dugu ere."
   ]
  },
  {
   "cell_type": "markdown",
   "metadata": {},
   "source": [
    "<table border=\"0\" width=\"100%\" style=\"margin: 0px;\">\n",
    "<tr>  \n",
    "  <td style=\"text-align:left\"><a href=\"Balio literalak eta datu motak.ipynb\">&lt; &lt; Balio literalak eta datu motak &lt; &lt;</a></td>\n",
    "  <td style=\"text-align:right\"><a href=\"Aldagai izenak.ipynb\">&gt; &gt; Aldagai izenak &gt; &gt;</a></td>\n",
    "</tr>\n",
    "</table>"
   ]
  }
 ],
 "metadata": {
  "kernelspec": {
   "display_name": "Python 3",
   "language": "python",
   "name": "python3"
  },
  "language_info": {
   "codemirror_mode": {
    "name": "ipython",
    "version": 3
   },
   "file_extension": ".py",
   "mimetype": "text/x-python",
   "name": "python",
   "nbconvert_exporter": "python",
   "pygments_lexer": "ipython3",
   "version": "3.5.6"
  }
 },
 "nbformat": 4,
 "nbformat_minor": 2
}
