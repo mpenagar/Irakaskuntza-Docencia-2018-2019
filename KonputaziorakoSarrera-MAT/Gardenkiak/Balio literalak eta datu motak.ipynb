{
 "cells": [
  {
   "cell_type": "markdown",
   "metadata": {},
   "source": [
    "# Balio literalak eta datu motak\n",
    "\n",
    "Edozein algoritmotan maiz agertzen dira programatzaileak *\"eskuz\"* (literalki) adierazitako balioak, aurrez ezagunak direnak: testuak (`\"kaixo\"`, `\"bai\"`, `\"ez\"`), espresio aritmetiko batetan agertzen diren konstanteak (`2`, `10`, `3.14159265359`), etab.\n",
    "\n",
    "Balio literal hauek adierazten ditugunean, Python-en interpreteak kodifikatu egingo ditu. Balio literalak adierazteko erabiltzen dugun sintaxiak, inplizituki, informazio bakoitzaren datu mota (eta beraz, kodifikazioa) adieraziko du. "
   ]
  },
  {
   "cell_type": "code",
   "execution_count": 1,
   "metadata": {},
   "outputs": [
    {
     "data": {
      "text/plain": [
       "3.3333333333333335"
      ]
     },
     "execution_count": 1,
     "metadata": {},
     "output_type": "execute_result"
    }
   ],
   "source": [
    "10/3"
   ]
  },
  {
   "cell_type": "code",
   "execution_count": 4,
   "metadata": {},
   "outputs": [
    {
     "data": {
      "text/plain": [
       "3"
      ]
     },
     "execution_count": 4,
     "metadata": {},
     "output_type": "execute_result"
    }
   ],
   "source": [
    "10//3"
   ]
  },
  {
   "cell_type": "code",
   "execution_count": 6,
   "metadata": {},
   "outputs": [
    {
     "data": {
      "text/plain": [
       "3.0"
      ]
     },
     "execution_count": 6,
     "metadata": {},
     "output_type": "execute_result"
    }
   ],
   "source": [
    "10.0//3"
   ]
  },
  {
   "cell_type": "markdown",
   "metadata": {},
   "source": [
    "`type()` funtzioak edozein espresiok duen emaitzaren datu motaren berri emango digu:"
   ]
  },
  {
   "cell_type": "code",
   "execution_count": 7,
   "metadata": {},
   "outputs": [
    {
     "data": {
      "text/plain": [
       "int"
      ]
     },
     "execution_count": 7,
     "metadata": {},
     "output_type": "execute_result"
    }
   ],
   "source": [
    "type(10)"
   ]
  },
  {
   "cell_type": "code",
   "execution_count": 8,
   "metadata": {},
   "outputs": [
    {
     "data": {
      "text/plain": [
       "float"
      ]
     },
     "execution_count": 8,
     "metadata": {},
     "output_type": "execute_result"
    }
   ],
   "source": [
    "type(10.0)"
   ]
  },
  {
   "cell_type": "code",
   "execution_count": 9,
   "metadata": {},
   "outputs": [
    {
     "data": {
      "text/plain": [
       "str"
      ]
     },
     "execution_count": 9,
     "metadata": {},
     "output_type": "execute_result"
    }
   ],
   "source": [
    "type(\"kaixo\")"
   ]
  },
  {
   "cell_type": "markdown",
   "metadata": {},
   "source": [
    "* int &rarr; zenbaki osoak (64bit++, errore aritmetikorik gabea)\n",
    "* float &rarr; zenbaki errealak (64bit, errore aritmetikoak)\n",
    "* str &rarr; karaktere kateak"
   ]
  },
  {
   "cell_type": "markdown",
   "metadata": {},
   "source": [
    "`print()` funtzioak emandako espresioen balioak pantailatik erakutsiko ditu:"
   ]
  },
  {
   "cell_type": "code",
   "execution_count": 16,
   "metadata": {},
   "outputs": [
    {
     "name": "stdout",
     "output_type": "stream",
     "text": [
      "3.3333333333333335\n"
     ]
    }
   ],
   "source": [
    "print(10.0/3)"
   ]
  },
  {
   "cell_type": "raw",
   "metadata": {},
   "source": [
    "Aurreko adibideetan, ez genuen `print()` funtzioa erabiltzen, baina emaitza pantailatik ikusten genuen... iPython-en kode bloke bat exekutatzean, azkeneko sententziak bueltatzen duen balioa *Out [x]* irteera moduan erakusten da."
   ]
  },
  {
   "cell_type": "code",
   "execution_count": 18,
   "metadata": {},
   "outputs": [
    {
     "data": {
      "text/plain": [
       "5"
      ]
     },
     "execution_count": 18,
     "metadata": {},
     "output_type": "execute_result"
    }
   ],
   "source": [
    "1+2\n",
    "1+3\n",
    "1+4"
   ]
  },
  {
   "cell_type": "markdown",
   "metadata": {},
   "source": [
    "Beraz, aurrerantzean, pantailatik zerbait ikusi nahi dugunean, `print()` funtzioa erabiliko dugu:"
   ]
  },
  {
   "cell_type": "code",
   "execution_count": 20,
   "metadata": {},
   "outputs": [
    {
     "name": "stdout",
     "output_type": "stream",
     "text": [
      "3\n",
      "5\n",
      "4\n"
     ]
    }
   ],
   "source": [
    "print(1+2)\n",
    "print(1+4)\n",
    "print(1+3)"
   ]
  },
  {
   "cell_type": "markdown",
   "metadata": {},
   "source": [
    "Zergatik `print()` funtzioa erabiltzean ez da *Out [x]* irteerarik erakusten? `print()` funtzioak `None` balio berezia bueltatzen duelako. Aurrez esandakoa berridatziz, iPython-en kode bloke bat exekutatzean, azkeneko sententziak bueltatzen duen balioa `None`-ren ezberdina denean, *Out [x]* irteera moduan erakusten da:"
   ]
  },
  {
   "cell_type": "code",
   "execution_count": 22,
   "metadata": {},
   "outputs": [
    {
     "name": "stdout",
     "output_type": "stream",
     "text": [
      "kaixo\n"
     ]
    }
   ],
   "source": [
    "print(\"kaixo\")"
   ]
  },
  {
   "cell_type": "code",
   "execution_count": 1,
   "metadata": {
    "scrolled": true
   },
   "outputs": [
    {
     "name": "stdout",
     "output_type": "stream",
     "text": [
      "kaixo\n"
     ]
    },
    {
     "data": {
      "text/plain": [
       "True"
      ]
     },
     "execution_count": 1,
     "metadata": {},
     "output_type": "execute_result"
    }
   ],
   "source": [
    "print(\"kaixo\") == None"
   ]
  },
  {
   "cell_type": "markdown",
   "metadata": {
    "scrolled": true
   },
   "source": [
    "IDle-aren kontsolan (*shell*) ere antzeko zerbait gertatzen da, kasu honetan, ilaraz ilara. Exekutatzen den ilara/sententzi bakoitzaren emaitza agertuko da, eta modu berean pantailatik mezuak idazteko aukera izango dugu `print()` funtzioaren bidez. Ezberdintasun nagusiena da, bi informazio hauek modu berean agertzen direla, eta beraz ezinezkoa dela bisualki ezberdintzea:\n",
    "\n",
    "![kontsolaren irteera](../img/IdleConsole-stdoutput_and_result.png)"
   ]
  },
  {
   "cell_type": "markdown",
   "metadata": {
    "scrolled": true
   },
   "source": [
    "Datu mota bakoitzak, mota horretako balioak sortzeko funtzio bat du, izen berekoa, `int()`, `float()` eta `str()`, alegia. Funtzio hauek datu mota arteko konbertsioak egiteko erabil daitezke:"
   ]
  },
  {
   "cell_type": "code",
   "execution_count": 11,
   "metadata": {
    "scrolled": true
   },
   "outputs": [
    {
     "name": "stdout",
     "output_type": "stream",
     "text": [
      "14\n",
      "14.3\n",
      "3.3333333333333335\n"
     ]
    }
   ],
   "source": [
    "print(int(\"10\") + 4)\n",
    "print(float(\"10.3\") + 4)\n",
    "print(str(10/3))"
   ]
  },
  {
   "cell_type": "code",
   "execution_count": 2,
   "metadata": {
    "scrolled": true
   },
   "outputs": [
    {
     "ename": "NameError",
     "evalue": "name 'keyword' is not defined",
     "output_type": "error",
     "traceback": [
      "\u001b[0;31m\u001b[0m",
      "\u001b[0;31mNameError\u001b[0mTraceback (most recent call last)",
      "\u001b[0;32m<ipython-input-2-df84f1fc0aa7>\u001b[0m in \u001b[0;36m<module>\u001b[0;34m()\u001b[0m\n\u001b[1;32m      1\u001b[0m \u001b[0mtype\u001b[0m\u001b[0;34m(\u001b[0m\u001b[0mstr\u001b[0m\u001b[0;34m(\u001b[0m\u001b[0;36m10\u001b[0m\u001b[0;34m/\u001b[0m\u001b[0;36m3\u001b[0m\u001b[0;34m)\u001b[0m\u001b[0;34m)\u001b[0m\u001b[0;34m\u001b[0m\u001b[0m\n\u001b[0;32m----> 2\u001b[0;31m \u001b[0mkeyword\u001b[0m\u001b[0;34m\u001b[0m\u001b[0m\n\u001b[0m",
      "\u001b[0;31mNameError\u001b[0m: name 'keyword' is not defined"
     ]
    }
   ],
   "source": [
    "type(str(10/3))\n",
    "keyword"
   ]
  },
  {
   "cell_type": "markdown",
   "metadata": {},
   "source": [
    "<table border=\"0\" width=\"100%\" style=\"margin: 0px;\">\n",
    "<tr>  \n",
    "  <td style=\"text-align:left\"><a href=\"Python Programazio Lengoaia - Ezaugarri batzuk.ipynb\">&lt; &lt; Python Programazio Lengoaia - Ezaugarri batzuk &lt; &lt;</a></td>\n",
    "  <td style=\"text-align:right\"><a href=\"Aldagaiak.ipynb\">&gt; &gt; Aldagaiak &gt; &gt;</a></td>\n",
    "</tr>\n",
    "</table>"
   ]
  }
 ],
 "metadata": {
  "kernelspec": {
   "display_name": "Python 3",
   "language": "python",
   "name": "python3"
  },
  "language_info": {
   "codemirror_mode": {
    "name": "ipython",
    "version": 3
   },
   "file_extension": ".py",
   "mimetype": "text/x-python",
   "name": "python",
   "nbconvert_exporter": "python",
   "pygments_lexer": "ipython3",
   "version": "3.5.6"
  }
 },
 "nbformat": 4,
 "nbformat_minor": 2
}
