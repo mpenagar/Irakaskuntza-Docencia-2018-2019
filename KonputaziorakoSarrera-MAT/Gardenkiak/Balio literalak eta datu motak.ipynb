{
 "cells": [
  {
   "cell_type": "markdown",
   "metadata": {},
   "source": [
    "# Balio literalak eta datu motak\n",
    "\n",
    "Edozein algoritmotan maiz agertzen dira programatzaileak *\"eskuz\"* (literalki) adierazitako balioak, aurrez ezagunak direnak: testuak (`\"kaixo\"`, `\"bai\"`, `\"ez\"`), espresio aritmetiko batetan agertzen diren konstanteak (`2`, `10`, `3.14159265359`), etab.\n",
    "\n",
    "Balio literal hauek adierazten ditugunean, Python-en interpreteak kodifikatu egingo ditu. Balio literalak adierazteko erabiltzen dugun sintaxiak, inplizituki, informazio bakoitzaren kodifikazioa adieraziko du. "
   ]
  },
  {
   "cell_type": "code",
   "execution_count": 1,
   "metadata": {},
   "outputs": [
    {
     "data": {
      "text/plain": [
       "3.3333333333333335"
      ]
     },
     "execution_count": 1,
     "metadata": {},
     "output_type": "execute_result"
    }
   ],
   "source": [
    "10/3"
   ]
  },
  {
   "cell_type": "code",
   "execution_count": 4,
   "metadata": {},
   "outputs": [
    {
     "data": {
      "text/plain": [
       "3"
      ]
     },
     "execution_count": 4,
     "metadata": {},
     "output_type": "execute_result"
    }
   ],
   "source": [
    "10//3"
   ]
  },
  {
   "cell_type": "code",
   "execution_count": 6,
   "metadata": {},
   "outputs": [
    {
     "data": {
      "text/plain": [
       "3.0"
      ]
     },
     "execution_count": 6,
     "metadata": {},
     "output_type": "execute_result"
    }
   ],
   "source": [
    "10.0//3"
   ]
  },
  {
   "cell_type": "markdown",
   "metadata": {},
   "source": [
    "`type()` funtzioak edozein espresiok emaitza bezala duen datu motaren berri emango digu:"
   ]
  },
  {
   "cell_type": "code",
   "execution_count": 7,
   "metadata": {},
   "outputs": [
    {
     "data": {
      "text/plain": [
       "int"
      ]
     },
     "execution_count": 7,
     "metadata": {},
     "output_type": "execute_result"
    }
   ],
   "source": [
    "type(10)"
   ]
  },
  {
   "cell_type": "code",
   "execution_count": 8,
   "metadata": {},
   "outputs": [
    {
     "data": {
      "text/plain": [
       "float"
      ]
     },
     "execution_count": 8,
     "metadata": {},
     "output_type": "execute_result"
    }
   ],
   "source": [
    "type(10.0)"
   ]
  },
  {
   "cell_type": "code",
   "execution_count": 9,
   "metadata": {},
   "outputs": [
    {
     "data": {
      "text/plain": [
       "str"
      ]
     },
     "execution_count": 9,
     "metadata": {},
     "output_type": "execute_result"
    }
   ],
   "source": [
    "type(\"kaixo\")"
   ]
  },
  {
   "cell_type": "markdown",
   "metadata": {},
   "source": [
    "* int &rarr; zenbaki osoak (64bit++, errore aritmetikorik gabea)\n",
    "* float &rarr; zenbaki errealak (64bit, errore aritmetikoak)\n",
    "* string &rarr; karaktere kateak"
   ]
  },
  {
   "cell_type": "markdown",
   "metadata": {},
   "source": [
    "`print()` funtzioak emandako espresioen balioak pantailatik erakutsiko ditu:"
   ]
  },
  {
   "cell_type": "code",
   "execution_count": 16,
   "metadata": {},
   "outputs": [
    {
     "name": "stdout",
     "output_type": "stream",
     "text": [
      "3.3333333333333335\n"
     ]
    }
   ],
   "source": [
    "print(10.0/3)"
   ]
  },
  {
   "cell_type": "raw",
   "metadata": {},
   "source": [
    "Aurreko adibideetan, ez genuen `print()` funtzioa erabiltzen, baina emaitza pantailatik ikusten genuen... iPython-en kode bloke bat exekutatzean, azkeneko sententziak bueltatzen duen balioa *Out [x]* irteera moduan erakusten da."
   ]
  },
  {
   "cell_type": "code",
   "execution_count": 18,
   "metadata": {},
   "outputs": [
    {
     "data": {
      "text/plain": [
       "5"
      ]
     },
     "execution_count": 18,
     "metadata": {},
     "output_type": "execute_result"
    }
   ],
   "source": [
    "1+2\n",
    "1+3\n",
    "1+4"
   ]
  },
  {
   "cell_type": "markdown",
   "metadata": {},
   "source": [
    "Beraz, aurrerantzean, pantailatik zerbait ikusi nahi dugunean, `print()` funtzioa erabiliko dugu:"
   ]
  },
  {
   "cell_type": "code",
   "execution_count": 20,
   "metadata": {},
   "outputs": [
    {
     "name": "stdout",
     "output_type": "stream",
     "text": [
      "3\n",
      "5\n",
      "4\n"
     ]
    }
   ],
   "source": [
    "print(1+2)\n",
    "print(1+4)\n",
    "print(1+3)"
   ]
  },
  {
   "cell_type": "markdown",
   "metadata": {},
   "source": [
    "Zergatik `print()` funtzioa erabiltzean ez da *Out [x]* irteerarik erakusten? `print()` funtzioak `None` balio berezia bueltatzen duelako. Aurrez esandakoa berridatziz, iPython-en kode bloke bat exekutatzean, azkeneko sententziak bueltatzen duen balioa `None`-ren ezberdina denean, *Out [x]* irteera moduan erakusten da:"
   ]
  },
  {
   "cell_type": "code",
   "execution_count": 22,
   "metadata": {},
   "outputs": [
    {
     "name": "stdout",
     "output_type": "stream",
     "text": [
      "kaixo\n"
     ]
    }
   ],
   "source": [
    "print(\"kaixo\")"
   ]
  },
  {
   "cell_type": "code",
   "execution_count": 21,
   "metadata": {
    "scrolled": true
   },
   "outputs": [
    {
     "name": "stdout",
     "output_type": "stream",
     "text": [
      "kaixo\n"
     ]
    },
    {
     "data": {
      "text/plain": [
       "True"
      ]
     },
     "execution_count": 21,
     "metadata": {},
     "output_type": "execute_result"
    }
   ],
   "source": [
    "print(\"kaixo\") == None"
   ]
  },
  {
   "cell_type": "markdown",
   "metadata": {},
   "source": [
    "<table border=\"0\" width=\"100%\" style=\"margin: 0px;\">\n",
    "<tr>  \n",
    "  <td style=\"text-align:left\"><a href=\"Python Programazio Lengoaia - Ezaugarri batzuk.ipynb\">&lt; &lt; Python Programazio Lengoaia - Ezaugarri batzuk &lt; &lt;</a></td>\n",
    "  <td style=\"text-align:right\"><a href=\"\">&gt; &gt; Hurrengo Gaia &gt; &gt;</a></td>\n",
    "</tr>\n",
    "</table>"
   ]
  }
 ],
 "metadata": {
  "kernelspec": {
   "display_name": "Python 3",
   "language": "python",
   "name": "python3"
  },
  "language_info": {
   "codemirror_mode": {
    "name": "ipython",
    "version": 3
   },
   "file_extension": ".py",
   "mimetype": "text/x-python",
   "name": "python",
   "nbconvert_exporter": "python",
   "pygments_lexer": "ipython3",
   "version": "3.5.6"
  }
 },
 "nbformat": 4,
 "nbformat_minor": 2
}
