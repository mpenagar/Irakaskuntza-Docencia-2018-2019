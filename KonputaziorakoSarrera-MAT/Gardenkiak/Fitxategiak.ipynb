{
 "cells": [
  {
   "cell_type": "markdown",
   "metadata": {
    "slideshow": {
     "slide_type": "slide"
    }
   },
   "source": [
    "# Fitxategiak\n",
    "\n",
    "Programa baten exekuzioa amaitzean, aldagaietan gordetako emaitza guztiak *desagertu* (*galdu*) egiten dira.\n",
    "\n",
    "* Aldagaiek izaera **iragankorra** dute\n",
    "\n",
    "Guk erabiltzen ditugun programek, normalean, informazioa gordetzen dute.\n",
    "\n",
    "* Izaera **iraunkorra** dute\n",
    "* Berriro ere exekutatzean, emaitza zaharrak berreskuratzen dira.\n",
    "* Lekuren batetan gorde da informazio hori\n",
    "   * Fitxategiak\n",
    "   * *cloud* &rarr; beste norbaiten ordenagailuan dauden fitxategiak\n"
   ]
  },
  {
   "cell_type": "markdown",
   "metadata": {
    "slideshow": {
     "slide_type": "slide"
    }
   },
   "source": [
    "Sistema eragileak *fitxategi sistema* bat kudeatu eta eskeintzen dio aplikazioari.\n",
    "\n",
    "* Direktorio/fitxategi egitura hierarkikoa\n",
    "    * Edukia aztertu\n",
    "    * Edukia aldatu\n",
    "    * Atributuak (izena, jabetza, baimenak, ...) aldatu\n",
    "    * Berriak sortu\n",
    "* Direktorio/fitxategiak bere bide-izenaz adieraziak\n",
    "    * Windows &rarr; \"C:\\Users\\Alazne\\Desktop\\datuak\"\n",
    "    * Linux &rarr; \"/home/Alazne/Desktop/datuak\""
   ]
  },
  {
   "cell_type": "markdown",
   "metadata": {
    "slideshow": {
     "slide_type": "slide"
    }
   },
   "source": [
    "<table width=\"100%\" \">\n",
    "<tr>  \n",
    "    <td><img src=\"../img/WindowsFileSystem.png\"/></td>\n",
    "    <td><img src=\"../img/LinuxFileSystem.png\"/></td> \n",
    "</tr>\n",
    "</table>"
   ]
  },
  {
   "cell_type": "markdown",
   "metadata": {
    "slideshow": {
     "slide_type": "slide"
    }
   },
   "source": [
    "## Windows/Linux (Unix) fitxategi sistemak\n",
    "\n",
    "### Windows \n",
    "\n",
    "* Sistemaren erroak: Biltegiratze unitateetako partizioak\n",
    "    * Unitate letrak (`A:\\`, `B:\\`, `C:\\`, `D:\\`, ...)\n",
    "* Direktorioen bideizen bereizlea: `\\`\n",
    "   * `C:\\Users\\Alazne\\Desktop\\datuak`\n",
    "\n",
    "### Linux (Unix) \n",
    "\n",
    "* Sistemaren erroa: `/`\n",
    "* Direktorioen bideizen bereizlea: `/` \n",
    "    * `/home/Alazne/Desktop/datuak`\n"
   ]
  },
  {
   "cell_type": "markdown",
   "metadata": {
    "slideshow": {
     "slide_type": "slide"
    }
   },
   "source": [
    "## Windows eta bideizen bereizlea\n",
    "\n",
    "Unix-en, `\\` karakterea [*escape*](https://python-reference.readthedocs.io/en/latest/docs/str/escapes.html) karaktereak adierazteko erabilia."
   ]
  },
  {
   "cell_type": "code",
   "execution_count": 35,
   "metadata": {
    "slideshow": {
     "slide_type": "-"
    }
   },
   "outputs": [
    {
     "name": "stdout",
     "output_type": "stream",
     "text": [
      "a\tb\n",
      "cde\tf\n"
     ]
    }
   ],
   "source": [
    "# Tabuladorea eta lerro berria adierazteko\n",
    "print(\"a\\tb\\ncde\\tf\")"
   ]
  },
  {
   "cell_type": "code",
   "execution_count": 7,
   "metadata": {
    "slideshow": {
     "slide_type": "-"
    }
   },
   "outputs": [
    {
     "name": "stdout",
     "output_type": "stream",
     "text": [
      "Parre apur bat egin ezazu... 😂\n"
     ]
    }
   ],
   "source": [
    "# Unikode kodifikazioa zuzenean adierazteko\n",
    "print(\"Parre apur bat egin ezazu... \\U0001F602\")"
   ]
  },
  {
   "cell_type": "code",
   "execution_count": 39,
   "metadata": {
    "slideshow": {
     "slide_type": "-"
    }
   },
   "outputs": [
    {
     "name": "stdout",
     "output_type": "stream",
     "text": [
      "9999\r"
     ]
    }
   ],
   "source": [
    "# Carriage Return karakterea adierazteko\n",
    "for i in range(10000):\n",
    "    print(i,end=\"\\r\",flush=True)"
   ]
  },
  {
   "cell_type": "markdown",
   "metadata": {
    "slideshow": {
     "slide_type": "slide"
    }
   },
   "source": [
    "Programazio ingurune ia ia ia ia guztiak, Unix-en oinarrituak izan dira... Python ere."
   ]
  },
  {
   "cell_type": "code",
   "execution_count": 30,
   "metadata": {},
   "outputs": [
    {
     "name": "stdout",
     "output_type": "stream",
     "text": [
      "C:\n",
      "ire\\karpeta\totala\n"
     ]
    }
   ],
   "source": [
    "print(\"C:\\nire\\karpeta\\totala\")"
   ]
  },
  {
   "cell_type": "code",
   "execution_count": 31,
   "metadata": {},
   "outputs": [
    {
     "ename": "SyntaxError",
     "evalue": "(unicode error) 'unicodeescape' codec can't decode bytes in position 2-3: truncated \\UXXXXXXXX escape (<ipython-input-31-e685da73d8c2>, line 1)",
     "output_type": "error",
     "traceback": [
      "\u001b[0;36m  File \u001b[0;32m\"<ipython-input-31-e685da73d8c2>\"\u001b[0;36m, line \u001b[0;32m1\u001b[0m\n\u001b[0;31m    print(\"C:\\Users\\Alazne\\Desktop\\datuak\")\u001b[0m\n\u001b[0m         ^\u001b[0m\n\u001b[0;31mSyntaxError\u001b[0m\u001b[0;31m:\u001b[0m (unicode error) 'unicodeescape' codec can't decode bytes in position 2-3: truncated \\UXXXXXXXX escape\n"
     ]
    }
   ],
   "source": [
    "print(\"C:\\Users\\Alazne\\Desktop\\datuak\")"
   ]
  },
  {
   "cell_type": "markdown",
   "metadata": {
    "slideshow": {
     "slide_type": "slide"
    }
   },
   "source": [
    "Python+Windows ingurunean bi aukera:\n",
    "* `\\\\` erabili:"
   ]
  },
  {
   "cell_type": "code",
   "execution_count": 33,
   "metadata": {
    "slideshow": {
     "slide_type": "-"
    }
   },
   "outputs": [
    {
     "name": "stdout",
     "output_type": "stream",
     "text": [
      "C:\\nire\\karpeta\\totala\n",
      "C:\\Users\\Alazne\\Desktop\\datuak\n"
     ]
    }
   ],
   "source": [
    "print(\"C:\\\\nire\\\\karpeta\\\\totala\")\n",
    "print(\"C:\\\\Users\\\\Alazne\\\\Desktop\\\\datuak\")"
   ]
  },
  {
   "cell_type": "markdown",
   "metadata": {
    "slideshow": {
     "slide_type": "-"
    }
   },
   "source": [
    "* `/` erabili (Python arduratzen da bideizenak itzultzeaz)"
   ]
  },
  {
   "cell_type": "code",
   "execution_count": 32,
   "metadata": {
    "slideshow": {
     "slide_type": "-"
    }
   },
   "outputs": [
    {
     "name": "stdout",
     "output_type": "stream",
     "text": [
      "C:/nire/karpeta/totala\n",
      "C:/Users/Alazne/Desktop/datuak\n"
     ]
    }
   ],
   "source": [
    "print(\"C:/nire/karpeta/totala\")\n",
    "print(\"C:/Users/Alazne/Desktop/datuak\")"
   ]
  },
  {
   "cell_type": "markdown",
   "metadata": {
    "slideshow": {
     "slide_type": "-"
    }
   },
   "source": [
    "<table border=\"0\" width=\"100%\" style=\"margin: 0px;\">\n",
    "<tr>  \n",
    "  <td style=\"text-align:left\"><a href=\"Karaktere kateak.ipynb\">&lt; &lt; Karaktere kateak &lt; &lt;</a></td>\n",
    "  <td style=\"text-align:right\"><a href=\"Hurrengoa.ipynb\">&gt; &gt; Hurrengoa &gt; &gt;</a></td>\n",
    "</tr>\n",
    "</table>"
   ]
  }
 ],
 "metadata": {
  "celltoolbar": "Slideshow",
  "kernelspec": {
   "display_name": "Python 3",
   "language": "python",
   "name": "python3"
  },
  "language_info": {
   "codemirror_mode": {
    "name": "ipython",
    "version": 3
   },
   "file_extension": ".py",
   "mimetype": "text/x-python",
   "name": "python",
   "nbconvert_exporter": "python",
   "pygments_lexer": "ipython3",
   "version": "3.5.6"
  },
  "rise": {
   "autolaunch": true,
   "footer": "<h2 align=\"center\">Konputaziorako Sarrera</h2>",
   "scroll": true
  }
 },
 "nbformat": 4,
 "nbformat_minor": 2
}
