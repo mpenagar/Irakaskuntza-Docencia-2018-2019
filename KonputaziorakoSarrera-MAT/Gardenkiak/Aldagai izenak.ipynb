{
 "cells": [
  {
   "cell_type": "markdown",
   "metadata": {},
   "source": [
    "# Aldagai izenak\n",
    "\n",
    "Aldagaiak (funtzio eta klaseak bezala) izen edo identifikadore baten bidez adieraziak izango dira. Orohar, aldagai izenek ondoko propietateak izango dituzte:\n",
    "\n",
    "* **Zentzudunak**: aldagaiak gordeko duen balioa zer den adieraztea.\n",
    "* Ezin dute hutsunerik izan (hutsuneak esanahi sintaktikoa du).\n",
    "* Ezin dira zenbaki batez hasi (balio numeriko literalekin arazorik ez izateko).\n",
    "* Nahi bezain luzeak, baina irakurgarritasuna oztopatu gabe.\n",
    "  * `_` karakterea erabil daiteke hitzak banatzeko: `soldata_gordina`\n",
    "\n",
    "Aldagai izen batek aurreko arauren bat hausten badu, `SyntaxError` motako erroreak (errore sintaktikoak) gertatuko dira:"
   ]
  },
  {
   "cell_type": "code",
   "execution_count": 8,
   "metadata": {},
   "outputs": [
    {
     "ename": "SyntaxError",
     "evalue": "invalid syntax (<ipython-input-8-4c35c4636ae7>, line 1)",
     "output_type": "error",
     "traceback": [
      "\u001b[0;36m  File \u001b[0;32m\"<ipython-input-8-4c35c4636ae7>\"\u001b[0;36m, line \u001b[0;32m1\u001b[0m\n\u001b[0;31m    2emaitza = 10\u001b[0m\n\u001b[0m           ^\u001b[0m\n\u001b[0;31mSyntaxError\u001b[0m\u001b[0;31m:\u001b[0m invalid syntax\n"
     ]
    }
   ],
   "source": [
    "2emaitza = 10\n"
   ]
  },
  {
   "cell_type": "code",
   "execution_count": 9,
   "metadata": {},
   "outputs": [
    {
     "ename": "SyntaxError",
     "evalue": "invalid syntax (<ipython-input-9-93a08a11da5d>, line 1)",
     "output_type": "error",
     "traceback": [
      "\u001b[0;36m  File \u001b[0;32m\"<ipython-input-9-93a08a11da5d>\"\u001b[0;36m, line \u001b[0;32m1\u001b[0m\n\u001b[0;31m    bigarren emaitza = 10\u001b[0m\n\u001b[0m                   ^\u001b[0m\n\u001b[0;31mSyntaxError\u001b[0m\u001b[0;31m:\u001b[0m invalid syntax\n"
     ]
    }
   ],
   "source": [
    "bigarren emaitza = 10\n"
   ]
  },
  {
   "cell_type": "code",
   "execution_count": 10,
   "metadata": {},
   "outputs": [
    {
     "name": "stdout",
     "output_type": "stream",
     "text": [
      "10\n"
     ]
    }
   ],
   "source": [
    "hau_zuzena_bada_ere_tontakeria_hutsa_ere_bada = 10\n",
    "print(hau_zuzena_bada_ere_tontakeria_hutsa_ere_bada)"
   ]
  },
  {
   "cell_type": "markdown",
   "metadata": {},
   "source": [
    "## Keyword edo hitz erreserbatuak\n",
    "\n",
    "Lengoai guztiek bere sintaxiaren parte izango diren identifikadore multzo bat erreserbatzen dute. Hitz erreserbatu hauek ezin dira erabili aldagai, funtzioa edo klase izen bezala. Pythonen kasuan: "
   ]
  },
  {
   "cell_type": "code",
   "execution_count": 1,
   "metadata": {},
   "outputs": [
    {
     "name": "stdout",
     "output_type": "stream",
     "text": [
      "['False', 'None', 'True', 'and', 'as', 'assert', 'break', 'class', 'continue', 'def', 'del', 'elif', 'else', 'except', 'finally', 'for', 'from', 'global', 'if', 'import', 'in', 'is', 'lambda', 'nonlocal', 'not', 'or', 'pass', 'raise', 'return', 'try', 'while', 'with', 'yield']\n"
     ]
    }
   ],
   "source": [
    "import keyword # keyword modulua erabili ahal izateko, inportatu egin behar da\n",
    "print(keyword.kwlist)"
   ]
  },
  {
   "cell_type": "markdown",
   "metadata": {},
   "source": [
    "Hauetako bat erabiltzen saiatzen bagara, `SyntaxError` motako erroreak (errore sintaktikoak) gertatuko dira:"
   ]
  },
  {
   "cell_type": "code",
   "execution_count": 2,
   "metadata": {},
   "outputs": [
    {
     "ename": "SyntaxError",
     "evalue": "invalid syntax (<ipython-input-2-83faf2fe2d08>, line 2)",
     "output_type": "error",
     "traceback": [
      "\u001b[0;36m  File \u001b[0;32m\"<ipython-input-2-83faf2fe2d08>\"\u001b[0;36m, line \u001b[0;32m2\u001b[0m\n\u001b[0;31m    as = 2\u001b[0m\n\u001b[0m     ^\u001b[0m\n\u001b[0;31mSyntaxError\u001b[0m\u001b[0;31m:\u001b[0m invalid syntax\n"
     ]
    }
   ],
   "source": [
    "a = 1\n",
    "as = 2"
   ]
  },
  {
   "cell_type": "markdown",
   "metadata": {},
   "source": [
    "Hitz erreserbatuetatik kanpora, beste **EDOZEIN** izen erabiltzeko askatasuna dugu, beti nere gogoratuz, existitzen den identifikadore bat berrerabiltzean, *balio* originala galduko dugula:"
   ]
  },
  {
   "cell_type": "code",
   "execution_count": 3,
   "metadata": {},
   "outputs": [
    {
     "name": "stdout",
     "output_type": "stream",
     "text": [
      "5\n"
     ]
    },
    {
     "ename": "TypeError",
     "evalue": "'int' object is not callable",
     "output_type": "error",
     "traceback": [
      "\u001b[0;31m\u001b[0m",
      "\u001b[0;31mTypeError\u001b[0mTraceback (most recent call last)",
      "\u001b[0;32m<ipython-input-3-770fbe10340d>\u001b[0m in \u001b[0;36m<module>\u001b[0;34m()\u001b[0m\n\u001b[1;32m      4\u001b[0m \u001b[0minprimatu\u001b[0m \u001b[0;34m=\u001b[0m \u001b[0mprint\u001b[0m \u001b[0;31m# print funtzioaren \"kopia\" bat egin dut...\u001b[0m\u001b[0;34m\u001b[0m\u001b[0m\n\u001b[1;32m      5\u001b[0m \u001b[0mprint\u001b[0m \u001b[0;34m=\u001b[0m \u001b[0;36m10\u001b[0m \u001b[0;31m# hemendik aurrera ezingo da print erabili pantailatik idazteko...\u001b[0m\u001b[0;34m\u001b[0m\u001b[0m\n\u001b[0;32m----> 6\u001b[0;31m \u001b[0mprint\u001b[0m\u001b[0;34m(\u001b[0m\u001b[0ma\u001b[0m\u001b[0;34m)\u001b[0m\u001b[0;34m\u001b[0m\u001b[0m\n\u001b[0m",
      "\u001b[0;31mTypeError\u001b[0m: 'int' object is not callable"
     ]
    }
   ],
   "source": [
    "a = 3\n",
    "a = 5\n",
    "print(a)\n",
    "inprimatu = print # print funtzioaren \"kopia\" bat egin dut...\n",
    "print = 10 # hemendik aurrera ezingo da print erabili pantailatik idazteko... \n",
    "print(a)"
   ]
  },
  {
   "cell_type": "code",
   "execution_count": 5,
   "metadata": {},
   "outputs": [
    {
     "name": "stdout",
     "output_type": "stream",
     "text": [
      "5\n"
     ]
    }
   ],
   "source": [
    "inprimatu(a) # tira, kopia honek zerbaitetarako balio zuen"
   ]
  },
  {
   "cell_type": "code",
   "execution_count": 7,
   "metadata": {},
   "outputs": [
    {
     "name": "stdout",
     "output_type": "stream",
     "text": [
      "5\n"
     ]
    }
   ],
   "source": [
    "print = inprimatu # hemendik aurrera gauzek \"normal\" jarraituko dute\n",
    "print(a)"
   ]
  },
  {
   "cell_type": "markdown",
   "metadata": {},
   "source": [
    "<table border=\"0\" width=\"100%\" style=\"margin: 0px;\">\n",
    "<tr>  \n",
    "  <td style=\"text-align:left\"><a href=\"Aldagaiak.ipynb\">&lt; &lt; Aldagaiak &lt; &lt;</a></td>\n",
    "  <td style=\"text-align:right\"><a href=\"Eragileak.ipynb\">&gt; &gt; Eragileak &gt; &gt;</a></td>\n",
    "</tr>\n",
    "</table>"
   ]
  }
 ],
 "metadata": {
  "kernelspec": {
   "display_name": "Python 3",
   "language": "python",
   "name": "python3"
  },
  "language_info": {
   "codemirror_mode": {
    "name": "ipython",
    "version": 3
   },
   "file_extension": ".py",
   "mimetype": "text/x-python",
   "name": "python",
   "nbconvert_exporter": "python",
   "pygments_lexer": "ipython3",
   "version": "3.5.6"
  }
 },
 "nbformat": 4,
 "nbformat_minor": 2
}
