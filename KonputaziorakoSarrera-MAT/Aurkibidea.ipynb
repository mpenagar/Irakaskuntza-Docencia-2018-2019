{
 "cells": [
  {
   "cell_type": "markdown",
   "metadata": {},
   "source": [
    "# Konputaziorako Sarrera - Aurkibidea\n",
    "\n",
    "1. [Python Programazio Lengoaia - Ezaugarri batzuk](Gardenkiak/Python_Programazio_Lengoaia_-_Ezaugarri_batzuk.ipynb)\n",
    "1. [Hurrengo edukia](Gardenkiak/hurrengo edukia.ext)"
   ]
  }
 ],
 "metadata": {
  "kernelspec": {
   "display_name": "Python 3",
   "language": "python",
   "name": "python3"
  },
  "language_info": {
   "codemirror_mode": {
    "name": "ipython",
    "version": 3
   },
   "file_extension": ".py",
   "mimetype": "text/x-python",
   "name": "python",
   "nbconvert_exporter": "python",
   "pygments_lexer": "ipython3",
   "version": "3.5.2"
  }
 },
 "nbformat": 4,
 "nbformat_minor": 2
}
