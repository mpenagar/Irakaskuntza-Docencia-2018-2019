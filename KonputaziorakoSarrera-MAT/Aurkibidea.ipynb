{
 "cells": [
  {
   "cell_type": "markdown",
   "metadata": {},
   "source": [
    "# Konputaziorako Sarrera - Python - Aurkibidea\n",
    "\n",
    "1. [Python Programazio Lengoaia - Ezaugarri batzuk](Gardenkiak/Python%20Programazio%20Lengoaia%20-%20Ezaugarri%20batzuk.ipynb)\n",
    "1. [Balio literalak eta datu motak](Gardenkiak/Balio%20literalak%20eta%20datu%20motak.ipynb)\n",
    "1. [Aldagaiak](Gardenkiak/Aldagaiak.ipynb)\n",
    "  1. [Aldagai izenak](Gardenkiak/Aldagai%20izenak.ipynb)\n",
    "1. [Eragileak](Gardenkiak/Eragileak.ipynb)\n",
    "1. [Oinarrizko datu sarrera eta irteera](Gardenkiak/Oinarrizko%20datu%20sarrera%20eta%20irteera.ipynb)\n"
   ]
  }
 ],
 "metadata": {
  "kernelspec": {
   "display_name": "Python 3",
   "language": "python",
   "name": "python3"
  },
  "language_info": {
   "codemirror_mode": {
    "name": "ipython",
    "version": 3
   },
   "file_extension": ".py",
   "mimetype": "text/x-python",
   "name": "python",
   "nbconvert_exporter": "python",
   "pygments_lexer": "ipython3",
   "version": "3.5.6"
  }
 },
 "nbformat": 4,
 "nbformat_minor": 2
}
