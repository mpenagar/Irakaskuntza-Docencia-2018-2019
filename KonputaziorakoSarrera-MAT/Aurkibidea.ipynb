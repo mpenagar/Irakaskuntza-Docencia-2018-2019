{
 "cells": [
  {
   "cell_type": "markdown",
   "metadata": {},
   "source": [
    "# Konputaziorako Sarrera - Aurkibidea\n",
    "\n",
    "1. [Python Programazio Lengoaia - Ezaugarri batzuk](Gardenkiak/Python%20Programazio%20Lengoaia%20-%20Ezaugarri%20batzuk.ipynb)\n",
    "1. [Balio literalak eta datu motak](Gardenkiak/Balio%20literalak%20eta%20datu%20motak.ipynb)"
   ]
  }
 ],
 "metadata": {
  "kernelspec": {
   "display_name": "Python 3",
   "language": "python",
   "name": "python3"
  },
  "language_info": {
   "codemirror_mode": {
    "name": "ipython",
    "version": 3
   },
   "file_extension": ".py",
   "mimetype": "text/x-python",
   "name": "python",
   "nbconvert_exporter": "python",
   "pygments_lexer": "ipython3",
   "version": "3.5.6"
  }
 },
 "nbformat": 4,
 "nbformat_minor": 2
}
