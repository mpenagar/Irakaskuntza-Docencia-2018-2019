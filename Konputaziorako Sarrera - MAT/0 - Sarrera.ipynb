{
 "cells": [
  {
   "cell_type": "markdown",
   "metadata": {},
   "source": [
    "# Python Programazio Lengoaia\n",
    "\n",
    "## Ezaugarri batzuk\n",
    "\n",
    " * **Trinkoa**: Python programa bat beste lengoaia batean idatzitako bere programa baliokidea baino laburragoa izango da.\n",
    " * **Irakurgarria**: Python sintaxia egokia programa irakurtzea erreza izateko.\n",
    " * **Exekuzio inguruneak** programazio erroreei buruzko informazio ugari ematen du konpiladoreekin konparatuz.\n",
    " * **Datu egitura** ugari, era errezean erabili daitezkenak.\n"
   ]
  },
  {
   "cell_type": "code",
   "execution_count": 1,
   "metadata": {},
   "outputs": [
    {
     "name": "stdout",
     "output_type": "stream",
     "text": [
      "hello world\n"
     ]
    }
   ],
   "source": [
    "print(\"hello world\")"
   ]
  }
 ],
 "metadata": {
  "kernelspec": {
   "display_name": "Python 3",
   "language": "python",
   "name": "python3"
  },
  "language_info": {
   "codemirror_mode": {
    "name": "ipython",
    "version": 3
   },
   "file_extension": ".py",
   "mimetype": "text/x-python",
   "name": "python",
   "nbconvert_exporter": "python",
   "pygments_lexer": "ipython3",
   "version": "3.5.2"
  }
 },
 "nbformat": 4,
 "nbformat_minor": 2
}
