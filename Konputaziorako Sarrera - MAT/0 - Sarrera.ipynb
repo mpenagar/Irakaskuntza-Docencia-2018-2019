{
 "cells": [
  {
   "cell_type": "markdown",
   "metadata": {},
   "source": [
    "# Python Programazio Lengoaia - Ezaugarri batzuk"
   ]
  },
  {
   "cell_type": "markdown",
   "metadata": {},
   "source": [
    "## Trinkoa\n",
    "\n",
    "Python programa bat beste lengoaia batean idatzitako bere programa baliokidea baino laburragoa izango da.\n",
    "\n",
    "Adibidez, \"Hello World\" mezua pantailatik erakutsi nahi bagenu, [programazio lengoaia ezberdinak erabiliz](https://en.wikibooks.org/wiki/List_of_hello_world_programs)... \n",
    "\n",
    "* **Python**:\n",
    "\n",
    "```python\n",
    "print(\"Hello, world!\")\n",
    "```\n",
    "\n",
    "\n",
    "* **C**:\n",
    "\n",
    "```c\n",
    "#include <stdio.h>\n",
    "\n",
    "int main(void){\n",
    "    printf(\"Hello, world!\");\n",
    "}\n",
    "```\n",
    "\n",
    "* **Java**:\n",
    "\n",
    "```java\n",
    "class HelloWorld {\n",
    "     public static void main(String[] args) {\n",
    "          System.out.println(\"Hello, world!\");\n",
    "     }\n",
    "}\n",
    "```\n",
    "\n",
    "* **Assembler (x86 DOS, FASM)**:\n",
    "\n",
    "```asm\n",
    "  org  $100\n",
    "  use16    \n",
    "  mov  ah,9\n",
    "  mov  dx,xhello\n",
    "  int  $21\n",
    "  mov  ah,$4C\n",
    "  int  $21\n",
    "xhello db 'Hello world!'\n",
    "```\n",
    "\n",
    "* **Scratch**:\n",
    "\n",
    "![Hello World in Scratch](https://upload.wikimedia.org/wikipedia/commons/thumb/d/d1/Scratchhello.jpg/120px-Scratchhello.jpg)"
   ]
  },
  {
   "cell_type": "markdown",
   "metadata": {},
   "source": [
    "## Irakurgarria\n",
    "\n",
    "Python-en sintaxiak programaren irakurtzea errezten du. Baina kontuz! Ondoko bi programak ez dira berdinak (&#x1F631;):\n",
    "\n",
    "```python\n",
    "for i in [1,2,3] :\n",
    "    print(i)\n",
    "```\n",
    "```python\n",
    "for i in [1,2,3] :\n",
    "    print(i)\n",
    "```"
   ]
  },
  {
   "cell_type": "markdown",
   "metadata": {},
   "source": [
    "## Exekuzio ingurunea\n",
    "\n",
    "Programazio erroreei buruzko informazio ugari ematen du, lengoai konpilatuekin konparatuz.\n",
    "\n"
   ]
  },
  {
   "cell_type": "code",
   "execution_count": 4,
   "metadata": {},
   "outputs": [
    {
     "name": "stdout",
     "output_type": "stream",
     "text": [
      "Maider\n"
     ]
    },
    {
     "ename": "IndexError",
     "evalue": "list index out of range",
     "output_type": "error",
     "traceback": [
      "\u001b[0;31m---------------------------------------------------------------------------\u001b[0m",
      "\u001b[0;31mIndexError\u001b[0m                                Traceback (most recent call last)",
      "\u001b[0;32m<ipython-input-4-077a9140a14c>\u001b[0m in \u001b[0;36m<module>\u001b[0;34m()\u001b[0m\n\u001b[1;32m      1\u001b[0m \u001b[0mz\u001b[0m \u001b[0;34m=\u001b[0m \u001b[0;34m[\u001b[0m\u001b[0;34m\"Nerea\"\u001b[0m\u001b[0;34m,\u001b[0m \u001b[0;34m\"Jon\"\u001b[0m\u001b[0;34m,\u001b[0m \u001b[0;34m\"Asier\"\u001b[0m \u001b[0;34m,\u001b[0m \u001b[0;34m\"Maider\"\u001b[0m\u001b[0;34m,\u001b[0m \u001b[0;34m\"nora\"\u001b[0m\u001b[0;34m]\u001b[0m\u001b[0;34m\u001b[0m\u001b[0m\n\u001b[1;32m      2\u001b[0m \u001b[0mprint\u001b[0m\u001b[0;34m(\u001b[0m\u001b[0mz\u001b[0m\u001b[0;34m[\u001b[0m\u001b[0;36m3\u001b[0m\u001b[0;34m]\u001b[0m\u001b[0;34m)\u001b[0m\u001b[0;34m\u001b[0m\u001b[0m\n\u001b[0;32m----> 3\u001b[0;31m \u001b[0mprint\u001b[0m\u001b[0;34m(\u001b[0m\u001b[0mz\u001b[0m\u001b[0;34m[\u001b[0m\u001b[0;36m326\u001b[0m\u001b[0;34m]\u001b[0m\u001b[0;34m)\u001b[0m\u001b[0;34m\u001b[0m\u001b[0m\n\u001b[0m",
      "\u001b[0;31mIndexError\u001b[0m: list index out of range"
     ]
    }
   ],
   "source": [
    "z = [\"Nerea\", \"Jon\", \"Asier\" , \"Maider\", \"nora\"]\n",
    "print(z[3])\n",
    "print(z[326])"
   ]
  },
  {
   "cell_type": "markdown",
   "metadata": {},
   "source": [
    "* **C** programazio lengoaian idatzitako programa baliokidea exekutatzean ikusiko genukeena:\n",
    "\n",
    "```bash\n",
    "Segmentation Fault (core dumped)\n",
    "```"
   ]
  },
  {
   "cell_type": "markdown",
   "metadata": {},
   "source": [
    "\n",
    "## Datu egiturak\n",
    "\n",
    "Ugariak, era errezean erabili daitezkenak. Tira, funtsean bi baino ez, **zerrendak** eta **hiztegiak**.\n"
   ]
  }
 ],
 "metadata": {
  "kernelspec": {
   "display_name": "Python 3",
   "language": "python",
   "name": "python3"
  },
  "language_info": {
   "codemirror_mode": {
    "name": "ipython",
    "version": 3
   },
   "file_extension": ".py",
   "mimetype": "text/x-python",
   "name": "python",
   "nbconvert_exporter": "python",
   "pygments_lexer": "ipython3",
   "version": "3.5.2"
  }
 },
 "nbformat": 4,
 "nbformat_minor": 2
}
