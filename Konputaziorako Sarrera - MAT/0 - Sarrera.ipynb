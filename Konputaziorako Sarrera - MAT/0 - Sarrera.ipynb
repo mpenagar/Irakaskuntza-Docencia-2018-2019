{
 "cells": [
  {
   "cell_type": "markdown",
   "metadata": {},
   "source": [
    "# Python Programazio Lengoaia - Ezaugarri batzuk\n",
    "\n",
    "## Trinkoa\n",
    "\n",
    "Python programa bat beste lengoaia batean idatzitako bere programa baliokidea baino laburragoa izango da.\n",
    "\n",
    "Adibidez, \"Hello World\" mezua pantailatik erakutsi nahi bagenu, [programazio lengoaia ezberdinak erabiliz](https://en.wikibooks.org/wiki/List_of_hello_world_programs)... \n",
    "\n",
    "* **Python**:\n",
    "\n",
    "```python\n",
    "print(\"Hello, world!\")\n",
    "```\n",
    "\n",
    "\n",
    "* **C**:\n",
    "\n",
    "```c\n",
    "#include <stdio.h>\n",
    "\n",
    "int main(void){\n",
    "    printf(\"Hello, world!\");\n",
    "}\n",
    "```\n",
    "\n",
    "* **Java**:\n",
    "\n",
    "```java\n",
    "class HelloWorld {\n",
    "     public static void main(String[] args) {\n",
    "          System.out.println(\"Hello, world!\");\n",
    "     }\n",
    "}\n",
    "```\n",
    "\n",
    "* **Assembler (x86 DOS, FASM)**:\n",
    "\n",
    "```asm\n",
    "  org  $100\n",
    "  use16    \n",
    "  mov  ah,9\n",
    "  mov  dx,xhello\n",
    "  int  $21\n",
    "  mov  ah,$4C\n",
    "  int  $21\n",
    "xhello db 'Hello world!'\n",
    "```\n",
    "\n",
    "\n",
    "* **Scratch**:\n",
    "\n",
    "<img alt=\"Hello World in Scratch\" align=\"left\" style=\"margin:10px 30px\" src=\"https://upload.wikimedia.org/wikipedia/commons/thumb/d/d1/Scratchhello.jpg/120px-Scratchhello.jpg\">\n",
    "<br clear=\"all\" />\n",
    "\n",
    "\n",
    "## Irakurgarria\n",
    "\n",
    "Python sintaxia egokia programa irakurtzea erreza izateko.\n",
    "\n",
    "## Exekuzio ingurunea\n",
    "\n",
    "Programazio erroreei buruzko informazio ugari ematen du, lengoai konpilatuekin konparatuz.\n",
    "\n",
    "\n",
    "## Datu egiturak\n",
    "\n",
    "Ugariak, era errezean erabili daitezkenak.\n"
   ]
  },
  {
   "cell_type": "code",
   "execution_count": 1,
   "metadata": {},
   "outputs": [
    {
     "name": "stdout",
     "output_type": "stream",
     "text": [
      "hello world\n"
     ]
    }
   ],
   "source": [
    "print(\"hello world\")"
   ]
  },
  {
   "cell_type": "code",
   "execution_count": null,
   "metadata": {},
   "outputs": [],
   "source": []
  },
  {
   "cell_type": "code",
   "execution_count": null,
   "metadata": {},
   "outputs": [],
   "source": []
  }
 ],
 "metadata": {
  "kernelspec": {
   "display_name": "Python 3",
   "language": "python",
   "name": "python3"
  },
  "language_info": {
   "codemirror_mode": {
    "name": "ipython",
    "version": 3
   },
   "file_extension": ".py",
   "mimetype": "text/x-python",
   "name": "python",
   "nbconvert_exporter": "python",
   "pygments_lexer": "ipython3",
   "version": "3.5.2"
  }
 },
 "nbformat": 4,
 "nbformat_minor": 2
}
